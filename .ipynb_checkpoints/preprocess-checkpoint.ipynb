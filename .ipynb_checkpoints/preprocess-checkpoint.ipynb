{
 "cells": [
  {
   "cell_type": "code",
   "execution_count": 2,
   "metadata": {},
   "outputs": [
    {
     "name": "stdout",
     "output_type": "stream",
     "text": [
      "[u'/data/colposcopy/colposcopy/train_stg2/Type_2/2845.jpg', u'/data/colposcopy/colposcopy/train_stg2/Type_1/5893.jpg', u'/data/colposcopy/colposcopy/train_stg2/Type_2/5892.jpg']\n",
      "12230\n"
     ]
    }
   ],
   "source": [
    "from __future__ import absolute_import\n",
    "from __future__ import division\n",
    "from __future__ import print_function\n",
    "from __future__ import unicode_literals\n",
    "\n",
    "import math\n",
    "import os\n",
    "import sys\n",
    "import warnings\n",
    "import argparse\n",
    "import numpy as np\n",
    "import yaml\n",
    "import cv2\n",
    "import matplotlib.pyplot as plt\n",
    "%matplotlib inline\n",
    "\n",
    "from glob import glob\n",
    "from tqdm import tqdm\n",
    "import torch\n",
    "from torch import optim\n",
    "from torch import Tensor\n",
    "import torch.nn as nn\n",
    "import torch.backends.cudnn as cudnn\n",
    "from torch.autograd import Variable\n",
    "from torch.utils.data import DataLoader, Dataset,Sampler\n",
    "from torchvision import datasets,transforms\n",
    "import torchvision.transforms as transforms\n",
    "from torch.nn import functional as F\n",
    "\n",
    "sys.path.append(\"/home/shiyi/gpu/gpu/\")\n",
    "sys.path.append(\"/home/shiyi/colposcopy/colposcopy/util\")\n",
    "img_dir = \"/data/colposcopy/colposcopy\"\n",
    "img_dir_1 = \"/data/colposcopy/colposcopy_1/\"\n",
    "\n",
    "from gpu_allocation import set_gpu\n",
    "\n",
    "import csv\n",
    "\n",
    "error = glob(os.path.join(img_dir,\"train*\",\"*\",\"2845.jpg\"))+ \\\n",
    "    glob(os.path.join(img_dir,\"train*\",\"*\",\"5893.jpg\"))+glob(os.path.join(img_dir,\"train*\",\"*\",\"5892.jpg\"))\n",
    "print(error)\n",
    "\n",
    "from gpu_allocation import set_gpu\n",
    "corrupt_set  = set()\n",
    "types = [1,2,3]\n",
    "\n",
    "type_1_train = [i for i in glob(os.path.join(img_dir,\"train*\",\"Type_1\",\"*.jpg\")) if i not in error]\n",
    "type_2_train = [i for i in glob(os.path.join(img_dir,\"train*\",\"Type_2\",\"*.jpg\")) if i not in error]\n",
    "type_3_train = [i for i in glob(os.path.join(img_dir,\"train*\",\"Type_3\",\"*.jpg\")) if i not in error]\n",
    "\n",
    "img_test   = glob(os.path.join(img_dir,\"test\",\"*.jpg\"))\n",
    "img_test_wo_answer = glob(os.path.join(img_dir,\"test_stg2\",\"*.jpg\"))\n",
    "\n",
    "img_paths = type_1_train+type_2_train+type_3_train+img_test+img_test_wo_answer\n",
    "print(len(img_paths))"
   ]
  },
  {
   "cell_type": "code",
   "execution_count": 3,
   "metadata": {},
   "outputs": [],
   "source": [
    "class ColpoProcessDataset(Dataset):\n",
    "    def __init__(self):\n",
    "        pass\n",
    "    def __getitem__(self, index):\n",
    "        path = img_paths[index]\n",
    "        x = cv2.imread(path)\n",
    "        if x is None:\n",
    "            return  None,None\n",
    "        return x\n",
    "    def __len__(self):\n",
    "        return len(img_paths)\n",
    "\n",
    "def collate_fn1(batch):\n",
    "    x = [item[0] for item in batch if item[0] is not None]\n",
    "    y = [item[1] for item in batch if item[0] is not None]\n",
    "    return x,y\n",
    "\n",
    "def data_label_alter(csv_path):\n",
    "    def data_label_del(target_img_path):\n",
    "        for i in img_paths:\n",
    "            if i.split('/')[-1]==target_img_path:\n",
    "                img_paths.remove(i)\n",
    "                #print (\"%s removed\"%i)\n",
    "                return\n",
    "                \n",
    "    def data_label_exchange(target_img_path,src,target):\n",
    "        for i in range(len(img_paths)):\n",
    "            path_token = img_paths[i].split('/')\n",
    "            if path_token[-1]==target_img_path and src == path_token[-2]:\n",
    "                #print (target_img_path,src,target)\n",
    "                #print (path_token[-2],src,target)\n",
    "                path_token[-2] = target\n",
    "               #print (\"From\",img_paths[i])\n",
    "                img_paths[i] = '/'.join(path_token)\n",
    "               # print (\"To\",img_paths[i])\n",
    "                return \n",
    "                \n",
    "        \n",
    "    with open(csv_path) as f:\n",
    "        f_csv = csv.reader(f)\n",
    "        index = 0\n",
    "        for row in f_csv:\n",
    "            if index == 0:\n",
    "                index += 1\n",
    "                continue\n",
    "            if row[-1] == 'remove':\n",
    "                data_label_del(row[0])\n",
    "            else:\n",
    "                data_label_exchange(row[0],row[1],row[2])\n",
    "\n",
    "            \n",
    "def cvt(image):\n",
    "    return cv2.cvtColor(image, cv2.COLOR_BGR2RGB)\n",
    "\n",
    "def preprocess(img): \n",
    "    r_c = img[:,:,2]\n",
    "    g_c = img[:,:,1]\n",
    "    b_c = img[:,:,0]\n",
    "    _,r_thres = cv2.threshold(r_c, 210, 255, cv2.THRESH_BINARY)\n",
    "    _,g_thres = cv2.threshold(g_c, 208, 255, cv2.THRESH_BINARY)\n",
    "    _,b_thres = cv2.threshold(b_c, 206, 255, cv2.THRESH_BINARY)\n",
    "    mixed = cv2.UMat(r_thres & b_thres & g_thres)\n",
    "    \n",
    "    kernel_dilate = np.ones((18, 18), np.uint8)\n",
    "    mask = cv2.dilate(mixed,kernel_dilate)\n",
    "    dst = cv2.inpaint(img,mask,14,cv2.INPAINT_TELEA)\n",
    "    return dst\n"
   ]
  },
  {
   "cell_type": "code",
   "execution_count": 4,
   "metadata": {},
   "outputs": [
    {
     "name": "stdout",
     "output_type": "stream",
     "text": [
      "[u'train', u'Type_1', u'732.jpg']\n",
      "12153\n"
     ]
    }
   ],
   "source": [
    "print(img_paths[0].split('/')[4:])\n",
    "data_label_alter(os.path.join(img_dir,\"fixed_labels_v2.csv\"))\n",
    "data_label_alter(os.path.join(img_dir,\"removed_files.csv\"))\n",
    "\n",
    "print(len(img_paths))"
   ]
  },
  {
   "cell_type": "code",
   "execution_count": 18,
   "metadata": {},
   "outputs": [
    {
     "name": "stderr",
     "output_type": "stream",
     "text": [
      "\r",
      "  0%|          | 0/12153 [00:00<?, ?it/s]"
     ]
    },
    {
     "name": "stdout",
     "output_type": "stream",
     "text": [
      "12153\n"
     ]
    },
    {
     "name": "stderr",
     "output_type": "stream",
     "text": [
      "100%|██████████| 12153/12153 [1:20:42<00:00,  2.87it/s] \n"
     ]
    }
   ],
   "source": [
    "print(len(img_paths))\n",
    "for img_path in tqdm(img_paths):\n",
    "    img_path_target = os.path.join(img_dir_1 + '/'.join(img_path.split('/')[4:]))\n",
    "    img = cv2.imread(img_path)\n",
    "    if img is None:\n",
    "        continue\n",
    "            #img = preprocess(img)\n",
    "            #print(\"Thread {}, number {}\".format(self.threadID,index))\n",
    "    cv2.imwrite(img_path_target,img,[int(cv2.IMWRITE_JPEG_QUALITY),100])"
   ]
  },
  {
   "cell_type": "code",
   "execution_count": 41,
   "metadata": {},
   "outputs": [
    {
     "name": "stdout",
     "output_type": "stream",
     "text": [
      "Thread 0, number 61\n"
     ]
    },
    {
     "name": "stderr",
     "output_type": "stream",
     "text": [
      "\r",
      "  0%|          | 20/12153 [00:09<1:37:44,  2.07it/s]"
     ]
    },
    {
     "name": "stdout",
     "output_type": "stream",
     "text": [
      "Thread 0, number 20\n",
      "('Found 4 GPU(s)', 'only 2 gpu below threshold')\n",
      "Using GPU 1\n"
     ]
    },
    {
     "name": "stderr",
     "output_type": "stream",
     "text": [
      "\n",
      "  0%|          | 0/12153 [00:00<?, ?it/s]\u001b[A"
     ]
    },
    {
     "name": "stdout",
     "output_type": "stream",
     "text": [
      "Thread 0, number 62\n",
      "Thread 0, number 21\n"
     ]
    },
    {
     "name": "stderr",
     "output_type": "stream",
     "text": [
      "  0%|          | 22/12153 [00:10<1:19:36,  2.54it/s]\n",
      "  0%|          | 1/12153 [00:00<1:59:58,  1.69it/s]\u001b[A"
     ]
    },
    {
     "name": "stdout",
     "output_type": "stream",
     "text": [
      "Thread 0, number 22\n",
      "Thread 0, number 63\n",
      "Thread 0, number 64\n",
      "Thread 0, number 23\n"
     ]
    },
    {
     "name": "stderr",
     "output_type": "stream",
     "text": [
      "  0%|          | 23/12153 [00:10<1:26:40,  2.33it/s]\n",
      "  0%|          | 2/12153 [00:01<1:55:19,  1.76it/s]\u001b[A\n",
      "  0%|          | 3/12153 [00:01<1:38:11,  2.06it/s]\u001b[A"
     ]
    },
    {
     "name": "stdout",
     "output_type": "stream",
     "text": [
      "Thread 0, number 65\n",
      "Thread 0, number 24\n"
     ]
    },
    {
     "name": "stderr",
     "output_type": "stream",
     "text": [
      "  0%|          | 24/12153 [00:10<1:29:56,  2.25it/s]\n",
      "  0%|          | 25/12153 [00:11<1:15:15,  2.69it/s][A"
     ]
    },
    {
     "name": "stdout",
     "output_type": "stream",
     "text": [
      "Thread 0, number 25\n"
     ]
    },
    {
     "name": "stderr",
     "output_type": "stream",
     "text": [
      "\r",
      "  0%|          | 26/12153 [00:11<1:18:28,  2.58it/s]"
     ]
    },
    {
     "name": "stdout",
     "output_type": "stream",
     "text": [
      "Thread 0, number 26\n",
      "Thread 0, number 66\n"
     ]
    },
    {
     "name": "stderr",
     "output_type": "stream",
     "text": [
      "\n",
      "  0%|          | 27/12153 [00:11<1:16:37,  2.64it/s][A"
     ]
    },
    {
     "name": "stdout",
     "output_type": "stream",
     "text": [
      "Thread 0, number 27\n"
     ]
    },
    {
     "name": "stderr",
     "output_type": "stream",
     "text": [
      "  0%|          | 28/12153 [00:12<1:08:46,  2.94it/s]\n",
      "  0%|          | 6/12153 [00:02<1:39:56,  2.03it/s]\u001b[A"
     ]
    },
    {
     "name": "stdout",
     "output_type": "stream",
     "text": [
      "Thread 0, number 28\n"
     ]
    },
    {
     "name": "stderr",
     "output_type": "stream",
     "text": [
      "\r",
      "  0%|          | 29/12153 [00:12<1:03:01,  3.21it/s]"
     ]
    },
    {
     "name": "stdout",
     "output_type": "stream",
     "text": [
      "Thread 0, number 29\n",
      "Thread 0, number 68\n"
     ]
    },
    {
     "name": "stderr",
     "output_type": "stream",
     "text": [
      "\n",
      "  0%|          | 7/12153 [00:03<1:32:39,  2.18it/s]\u001b[A"
     ]
    },
    {
     "name": "stdout",
     "output_type": "stream",
     "text": [
      "Thread 0, number 30\n"
     ]
    },
    {
     "name": "stderr",
     "output_type": "stream",
     "text": [
      "  0%|          | 30/12153 [00:13<1:21:19,  2.48it/s]\n",
      "  0%|          | 8/12153 [00:03<1:41:54,  1.99it/s]\u001b[A"
     ]
    },
    {
     "name": "stdout",
     "output_type": "stream",
     "text": [
      "Thread 0, number 70\n"
     ]
    },
    {
     "name": "stderr",
     "output_type": "stream",
     "text": [
      "  0%|          | 31/12153 [00:13<1:35:42,  2.11it/s]\n",
      "  0%|          | 9/12153 [00:04<1:51:22,  1.82it/s]\u001b[A"
     ]
    },
    {
     "name": "stdout",
     "output_type": "stream",
     "text": [
      "Thread 0, number 31\n",
      "Thread 0, number 71\n",
      "Thread 0, number 32\n"
     ]
    },
    {
     "name": "stderr",
     "output_type": "stream",
     "text": [
      "  0%|          | 32/12153 [00:14<1:47:30,  1.88it/s]\n",
      "  0%|          | 33/12153 [00:14<1:29:20,  2.26it/s]\u001b[A"
     ]
    },
    {
     "name": "stdout",
     "output_type": "stream",
     "text": [
      "Thread 0, number 33\n"
     ]
    },
    {
     "name": "stderr",
     "output_type": "stream",
     "text": [
      "\n",
      "  0%|          | 11/12153 [00:05<1:47:49,  1.88it/s]\u001b[A"
     ]
    },
    {
     "name": "stdout",
     "output_type": "stream",
     "text": [
      "Thread 0, number 72\n",
      "Thread 0, number 34\n"
     ]
    },
    {
     "name": "stderr",
     "output_type": "stream",
     "text": [
      "  0%|          | 34/12153 [00:15<1:42:04,  1.98it/s]\n",
      "  0%|          | 36/12153 [00:15<1:22:24,  2.45it/s]\u001b[A"
     ]
    },
    {
     "name": "stdout",
     "output_type": "stream",
     "text": [
      "Thread 0, number 73\n",
      "Thread 0, number 36\n"
     ]
    },
    {
     "name": "stderr",
     "output_type": "stream",
     "text": [
      "\n",
      "  0%|          | 13/12153 [00:06<1:29:04,  2.27it/s]\u001b[A\n",
      "  0%|          | 14/12153 [00:06<1:31:35,  2.21it/s]\u001b[A"
     ]
    },
    {
     "name": "stdout",
     "output_type": "stream",
     "text": [
      "Thread 0, number 37\n",
      "Thread 0, number 74\n"
     ]
    },
    {
     "name": "stderr",
     "output_type": "stream",
     "text": [
      "\r",
      "  0%|          | 37/12153 [00:16<1:40:24,  2.01it/s]"
     ]
    }
   ],
   "source": [
    "import threading\n",
    "os.environ[\"CUDA_VISIBLE_DEVICES\"]=\"0,1,2,3\"\n",
    "num_gpu = 1\n",
    "set_gpu(num_gpu)\n",
    "\n",
    "class myThread (threading.Thread):   \n",
    "    def __init__(self, threadID, img_num_per_thread):\n",
    "        threading.Thread.__init__(self)\n",
    "        self.threadID = threadID\n",
    "        self.img_num_per_thread = img_num_per_thread\n",
    "        \n",
    "    def run(self):     \n",
    "        start = self.img_num_per_thread*self.threadID\n",
    "        end = min(start+self.img_num_per_thread,len(img_paths))\n",
    "        index = 0\n",
    "        for img_path in tqdm(img_paths[start:end]):\n",
    "            img_path_target = os.path.join(img_dir_1 + '/'.join(img_path.split('/')[4:]))\n",
    "            index += 1\n",
    "            img = cv2.imread(img_path)\n",
    "            if img is None:\n",
    "                continue\n",
    "            #img = preprocess(img)\n",
    "            #print(\"Thread {}, number {}\".format(self.threadID,index))\n",
    "            cv2.imwrite(img_path_target,img,[int(cv2.IMWRITE_JPEG_QUALITY),100])\n",
    "\n",
    "num_thread = num_gpu\n",
    "img_num_per_thread = len(img_paths)//num_thread \n",
    "thread_res = list()\n",
    "for i in range(num_thread):\n",
    "    thread_res.append(myThread(i,img_num_per_thread))\n",
    "\n",
    "for i in range(num_thread): \n",
    "    thread_res[i].start()\n"
   ]
  },
  {
   "cell_type": "code",
   "execution_count": 5,
   "metadata": {},
   "outputs": [],
   "source": [
    "import numpy as np\n",
    "import math\n",
    "\n",
    "def max2D(matrix):\n",
    "    def max_with_par(val,p1,p2,max_val,max_p1,max_p2):\n",
    "        if val>max_val:\n",
    "            return val,p1,p2\n",
    "        else:\n",
    "            return max_val,max_p1,max_p2\n",
    "        \n",
    "    def maxHist(lst):\n",
    "        if not lst:\n",
    "            return 0,0,0,0\n",
    "        \n",
    "        s = list()\n",
    "        max_val = 0\n",
    "        left = -1\n",
    "        right = -1\n",
    "        i = 0\n",
    "        while(i < len(lst)):\n",
    "            if len(s)==0 or lst[i]>=lst[s[-1]]:\n",
    "                s.append(i)\n",
    "                i += 1\n",
    "            else:\n",
    "                top = s.pop()\n",
    "                val = lst[top] * (i if len(s)<=0 else i-s[-1]-1)\n",
    "                left_cur = 0 if len(s)<=0 else s[-1]+1\n",
    "                right_cur = i-1\n",
    "                max_val,left,right = max_with_par(val,left_cur,right_cur,max_val,left,right)\n",
    "    \n",
    "        while(len(s) > 0):\n",
    "            top = s.pop()\n",
    "            val = lst[top] * (i if len(s)<=0 else i-s[-1]-1)\n",
    "            left_cur = 0 if len(s)<=0 else s[-1]+1\n",
    "            right_cur = i-1\n",
    "            max_val,left,right = max_with_par(val,left_cur,right_cur,max_val,left,right)\n",
    "        return max_val,left,right\n",
    "    \n",
    "    max_area = -1\n",
    "    up = -1\n",
    "    down = -1\n",
    "    left = -1\n",
    "    right = -1\n",
    "    \n",
    "    row_accum =[int(i) for i in matrix[0]]\n",
    "    for index in range(len(matrix)):\n",
    "        if index>=1:\n",
    "            for digit in range(len(matrix[index-1])):\n",
    "                if int(matrix[index][digit])==0:\n",
    "                    row_accum[digit] = 0\n",
    "                else:\n",
    "                    row_accum[digit] += int(matrix[index][digit]) \n",
    " \n",
    "        area,left_cur,right_cur = maxHist(row_accum)\n",
    "        past_max_area = max_area\n",
    "        \n",
    "        down_cur = index\n",
    "        up_cur = index - (area//(1-left_cur+right_cur))+1\n",
    "        max_area,down,up = max_with_par(area,down_cur,up_cur,max_area,down,up)\n",
    "        if past_max_area != max_area:\n",
    "            left = left_cur\n",
    "            right = right_cur\n",
    "        #print('area: ',max_area,area,'  coor: ',left,right,down,up)\n",
    "    return left,up,right,down"
   ]
  },
  {
   "cell_type": "code",
   "execution_count": 6,
   "metadata": {},
   "outputs": [
    {
     "name": "stdout",
     "output_type": "stream",
     "text": [
      "(3, 1, 5, 2)\n",
      "(2, 0, 4, 2)\n"
     ]
    }
   ],
   "source": [
    "maxtrix_0 = np.array([[1,0,0,0,0,1],\n",
    "                      [1,1,0,1,1,1],\n",
    "                      [0,0,0,1,1,1],\n",
    "                      [0,0,1,1,0,0]])\n",
    "\n",
    "maxtrix_1 = np.array([[1,0,1,1,1,1],\n",
    "                      [1,1,1,1,1,0],\n",
    "                      [0,0,1,1,1,1],\n",
    "                      [0,0,1,1,0,0]])\n",
    "\n",
    "print (max2D(maxtrix_0))\n",
    "print (max2D(maxtrix_1))"
   ]
  },
  {
   "cell_type": "code",
   "execution_count": 8,
   "metadata": {},
   "outputs": [],
   "source": [
    "from sklearn.mixture import GaussianMixture \n",
    "from sklearn.utils import shuffle\n",
    "from skimage import measure\n",
    "\n",
    "def cvt(image):\n",
    "    return cv2.cvtColor(image, cv2.COLOR_BGR2RGB)\n",
    "\n",
    "def cropCircle(img):\n",
    "    '''\n",
    "    max_edge = 255\n",
    "    if(img.shape[0] > img.shape[1]):\n",
    "        tile_size = (int(img.shape[1]*max_edge/img.shape[0]),max_edge)\n",
    "    else:\n",
    "        tile_size = (max_edge, int(img.shape[0]*max_edge/img.shape[1]))\n",
    "    '''\n",
    "    tile_size = (255,255)\n",
    "\n",
    "    img = cv2.resize(img, dsize=tile_size)\n",
    "    gray = cv2.cvtColor(img, cv2.COLOR_RGB2GRAY)\n",
    "    \n",
    "    _, thresh = cv2.threshold(gray, 10, 255, cv2.THRESH_BINARY)\n",
    "    _, contours, _ = cv2.findContours(thresh.copy(),cv2.RETR_TREE,cv2.CHAIN_APPROX_NONE)\n",
    "    main_contour = sorted(contours, key = cv2.contourArea, reverse = True)[0]\n",
    "            \n",
    "    ff = np.zeros((gray.shape[0],gray.shape[1]), 'uint8') \n",
    "    cv2.drawContours(ff, main_contour, -1, 1, 15)\n",
    "    ff_mask = np.zeros((gray.shape[0]+2,gray.shape[1]+2), 'uint8')\n",
    "    cv2.floodFill(ff, ff_mask, (int(gray.shape[1]/2), int(gray.shape[0]/2)), 1)\n",
    "    rect = max2D(ff)\n",
    "    \n",
    "    rectangle = [min(rect[0],rect[2]), max(rect[0],rect[2]), min(rect[1],rect[3]), max(rect[1],rect[3])]\n",
    "    return img[rectangle[0]:rectangle[1], rectangle[2]:rectangle[3]]\n",
    "    \n",
    "def remove_sr(img): \n",
    "    r_c = img[:,:,2]\n",
    "    g_c = img[:,:,1]\n",
    "    b_c = img[:,:,0]\n",
    "    _,r_thres = cv2.threshold(r_c, 210, 255, cv2.THRESH_BINARY)\n",
    "    _,g_thres = cv2.threshold(g_c, 208, 255, cv2.THRESH_BINARY)\n",
    "    _,b_thres = cv2.threshold(b_c, 206, 255, cv2.THRESH_BINARY)\n",
    "    mixed = r_thres & b_thres & g_thres\n",
    "    kernel_dilate = np.ones((18, 18), np.uint8)\n",
    "    mask = cv2.dilate(mixed,kernel_dilate)\n",
    "    dst = cv2.inpaint(img,mask,14,cv2.INPAINT_TELEA)\n",
    "    return dst"
   ]
  },
  {
   "cell_type": "code",
   "execution_count": 14,
   "metadata": {},
   "outputs": [
    {
     "name": "stdout",
     "output_type": "stream",
     "text": [
      "Parent process 11247.\n",
      "1215 10\n",
      "Thread 0, image 0|1215, name: /data/colposcopy/colposcopy/train/Type_1/732.jpg\n",
      "Thread 1, image 0|1215, name: /data/colposcopy/colposcopy/train_stg2/Type_1/3829.jpg\n",
      "Thread 2, image 0|1215, name: /data/colposcopy/colposcopy/train_stg2/Type_2/6430.jpg\n",
      "Thread 3, image 0|1215, name: /data/colposcopy/colposcopy/train_stg2/Type_2/780.jpg\n",
      "Waiting for all subprocesses done...\n",
      "Thread 4, image 0|1215, name: /data/colposcopy/colposcopy/train_stg2/Type_2/919.jpg\n",
      "Thread 5, image 0|1215, name: /data/colposcopy/colposcopy/train/Type_3/818.jpg\n",
      "Thread 6, image 0|1215, name: /data/colposcopy/colposcopy/train_stg2/Type_3/4423.jpg\n",
      "Thread 7, image 0|1215, name: /data/colposcopy/colposcopy/test/202.jpg\n",
      "Thread 8, image 0|1215, name: /data/colposcopy/colposcopy/test_stg2/11193.jpg\n",
      "Thread 9, image 0|1215, name: /data/colposcopy/colposcopy/test_stg2/10258.jpg\n",
      "done,time takes: 0.101037025452\n"
     ]
    }
   ],
   "source": [
    "from multiprocessing import Pool, Lock\n",
    "from multiprocessing.pool import ThreadPool\n",
    "import time\n",
    "import threading\n",
    "from tqdm import tqdm\n",
    "import os\n",
    "import numpy as np\n",
    "\n",
    "def preprocess_cervical(thread_id,index_slice):\n",
    "    for index in index_slice:\n",
    "        if (index-index_slice[0])%40==0:\n",
    "            print(\"Thread {}, image {}|{}, name: {}\".format(thread_id, index-index_slice[0], len(index_slice) ,img_paths[index]))\n",
    "        img_name = img_paths[index]\n",
    "        img_path_target = os.path.join(img_dir_1 + '/'.join(img_path.split('/')[4:]))\n",
    "        img = cv2.imread(img_name)\n",
    "        if img is not None:\n",
    "            img_crop = cropCircle(cvt(img))\n",
    "            dst = remove_sr(img_crop)\n",
    "            cv2.imwrite(img_name_target,dst)\n",
    "    \n",
    "print ('Parent process %s.' % os.getpid())\n",
    "\n",
    "num_thread = 10\n",
    "num_images = len(img_paths)\n",
    "pool = ThreadPool(num_thread)\n",
    "num_per_thread = num_images//num_thread\n",
    "\n",
    "\n",
    "start_time = time.time()\n",
    "for i in range(num_thread):\n",
    "    start = i*num_per_thread\n",
    "    end = min((i+1)*num_per_thread, num_images)\n",
    "    pool.apply_async(preprocess_cervical, args=(i,range(start,end)))\n",
    "\n",
    "print ('Waiting for all subprocesses done...')\n",
    "\n",
    "pool.close()\n",
    "pool.join()\n",
    "end_time = time.time()\n",
    "print (\"done,time takes:\",end_time-start_time)\n"
   ]
  },
  {
   "cell_type": "code",
   "execution_count": null,
   "metadata": {},
   "outputs": [
    {
     "name": "stderr",
     "output_type": "stream",
     "text": [
      "\n",
      "\n",
      "  0%|          | 0/12153 [00:00<?, ?it/s]\u001b[A\u001b[A"
     ]
    },
    {
     "name": "stdout",
     "output_type": "stream",
     "text": [
      "Parent process 12852.\n",
      "/data/colposcopy/colposcopy/train/Type_1/732.jpg\n",
      "/data/colposcopy/colposcopy/train/Type_1/624.jpg\n",
      "/data/colposcopy/colposcopy/train_stg2/Type_1/174.jpg\n",
      "/data/colposcopy/colposcopy/train_stg2/Type_1/3041.jpg\n",
      "/data/colposcopy/colposcopy/train_stg2/Type_1/1185.jpg/data/colposcopy/colposcopy/train_stg2/Type_1/2054.jpg\n",
      "/data/colposcopy/colposcopy/train_stg2/Type_1/6460.jpg\n",
      "\n",
      "/data/colposcopy/colposcopy/train_stg2/Type_1/1877.jpg\n",
      "/data/colposcopy/colposcopy/train_stg2/Type_1/4023.jpg/data/colposcopy/colposcopy/train_stg2/Type_1/5982.jpg\n",
      "/data/colposcopy/colposcopy/train/Type_2/1298.jpg/data/colposcopy/colposcopy/train/Type_2/974.jpg\n",
      "\n",
      "/data/colposcopy/colposcopy/train/Type_2/723.jpg\n",
      "/data/colposcopy/colposcopy/train/Type_2/903.jpg\n",
      "/data/colposcopy/colposcopy/train_stg2/Type_2/4329.jpg\n",
      "/data/colposcopy/colposcopy/train_stg2/Type_2/5363.jpg\n",
      "/data/colposcopy/colposcopy/train_stg2/Type_2/2109.jpg\n",
      "/data/colposcopy/colposcopy/train/Type_2/865.jpg\n",
      "/data/colposcopy/colposcopy/train_stg2/Type_2/6450.jpg\n",
      "/data/colposcopy/colposcopy/train_stg2/Type_2/6453.jpg\n",
      "\n",
      "/data/colposcopy/colposcopy/train/Type_1/1405.jpg\n",
      "/data/colposcopy/colposcopy/train/Type_2/231.jpg\n",
      "/data/colposcopy/colposcopy/train/Type_1/1344.jpg\n",
      "/data/colposcopy/colposcopy/train_stg2/Type_1/1939.jpg\n",
      "/data/colposcopy/colposcopy/train_stg2/Type_1/4050.jpg\n",
      "/data/colposcopy/colposcopy/train/Type_2/504.jpg\n",
      "/data/colposcopy/colposcopy/train_stg2/Type_1/2935.jpg\n",
      "/data/colposcopy/colposcopy/train_stg2/Type_2/6598.jpg\n",
      "/data/colposcopy/colposcopy/train_stg2/Type_2/3932.jpg\n",
      "/data/colposcopy/colposcopy/train_stg2/Type_2/1171.jpg\n",
      "/data/colposcopy/colposcopy/train_stg2/Type_1/1455.jpg\n",
      "/data/colposcopy/colposcopy/train/Type_1/764.jpg\n",
      "/data/colposcopy/colposcopy/train/Type_2/591.jpg\n",
      "/data/colposcopy/colposcopy/train_stg2/Type_2/6780.jpg\n",
      "/data/colposcopy/colposcopy/train/Type_2/348.jpg\n",
      "/data/colposcopy/colposcopy/train_stg2/Type_1/3575.jpg\n",
      "/data/colposcopy/colposcopy/train_stg2/Type_1/1253.jpg\n",
      "/data/colposcopy/colposcopy/train_stg2/Type_2/5886.jpg\n",
      "/data/colposcopy/colposcopy/train/Type_2/612.jpg\n",
      "/data/colposcopy/colposcopy/train_stg2/Type_1/6431.jpg\n",
      "/data/colposcopy/colposcopy/train/Type_2/1176.jpg/data/colposcopy/colposcopy/train_stg2/Type_1/1728.jpg\n",
      "\n",
      "/data/colposcopy/colposcopy/train_stg2/Type_1/3188.jpg\n",
      "/data/colposcopy/colposcopy/train_stg2/Type_1/1695.jpg\n",
      "/data/colposcopy/colposcopy/train/Type_1/1033.jpg\n",
      "/data/colposcopy/colposcopy/train_stg2/Type_1/2387.jpg\n",
      "/data/colposcopy/colposcopy/train/Type_2/1125.jpg\n",
      "/data/colposcopy/colposcopy/train_stg2/Type_2/438.jpg\n",
      "/data/colposcopy/colposcopy/train_stg2/Type_1/1977.jpg\n",
      "/data/colposcopy/colposcopy/train/Type_2/938.jpg\n",
      "/data/colposcopy/colposcopy/train/Type_1/1071.jpg\n",
      "/data/colposcopy/colposcopy/train_stg2/Type_2/6894.jpg\n",
      "/data/colposcopy/colposcopy/train_stg2/Type_2/6272.jpg\n",
      "/data/colposcopy/colposcopy/train_stg2/Type_1/4689.jpg\n",
      "/data/colposcopy/colposcopy/train/Type_2/1263.jpg\n",
      "/data/colposcopy/colposcopy/train_stg2/Type_1/6449.jpg\n",
      "/data/colposcopy/colposcopy/train_stg2/Type_1/1197.jpg\n",
      "/data/colposcopy/colposcopy/train_stg2/Type_2/5595.jpg\n",
      "/data/colposcopy/colposcopy/train_stg2/Type_2/6704.jpg\n",
      "/data/colposcopy/colposcopy/train/Type_2/413.jpg\n",
      "/data/colposcopy/colposcopy/train/Type_2/403.jpg\n",
      "/data/colposcopy/colposcopy/train_stg2/Type_1/4015.jpg\n",
      "/data/colposcopy/colposcopy/train_stg2/Type_1/4049.jpg\n",
      "/data/colposcopy/colposcopy/train_stg2/Type_1/5987.jpg\n",
      "/data/colposcopy/colposcopy/train/Type_1/160.jpg\n",
      "/data/colposcopy/colposcopy/train/Type_2/257.jpg\n",
      "/data/colposcopy/colposcopy/train_stg2/Type_1/6140.jpg\n",
      "/data/colposcopy/colposcopy/train_stg2/Type_1/2128.jpg\n",
      "/data/colposcopy/colposcopy/train/Type_1/298.jpg\n",
      "/data/colposcopy/colposcopy/train_stg2/Type_2/4138.jpg\n",
      "/data/colposcopy/colposcopy/train/Type_2/1057.jpg\n",
      "/data/colposcopy/colposcopy/train_stg2/Type_2/5128.jpg\n",
      "/data/colposcopy/colposcopy/train_stg2/Type_1/2184.jpg\n",
      "/data/colposcopy/colposcopy/train/Type_2/1441.jpg\n",
      "/data/colposcopy/colposcopy/train_stg2/Type_1/1466.jpg\n",
      "/data/colposcopy/colposcopy/train_stg2/Type_2/4519.jpg\n",
      "/data/colposcopy/colposcopy/train/Type_2/1078.jpg\n",
      "/data/colposcopy/colposcopy/train_stg2/Type_2/3026.jpg\n",
      "/data/colposcopy/colposcopy/train_stg2/Type_2/2378.jpg\n",
      "/data/colposcopy/colposcopy/train_stg2/Type_1/1774.jpg\n",
      "/data/colposcopy/colposcopy/train/Type_2/862.jpg\n",
      "/data/colposcopy/colposcopy/train_stg2/Type_1/2644.jpg\n",
      "/data/colposcopy/colposcopy/train_stg2/Type_1/4706.jpg\n",
      "/data/colposcopy/colposcopy/train/Type_2/815.jpg\n",
      "/data/colposcopy/colposcopy/train_stg2/Type_1/3130.jpg\n",
      "/data/colposcopy/colposcopy/train/Type_1/930.jpg\n",
      "/data/colposcopy/colposcopy/train_stg2/Type_1/2981.jpg\n",
      "/data/colposcopy/colposcopy/train_stg2/Type_1/28.jpg\n",
      "/data/colposcopy/colposcopy/train/Type_1/245.jpg\n",
      "/data/colposcopy/colposcopy/train/Type_2/133.jpg\n",
      "/data/colposcopy/colposcopy/train_stg2/Type_1/2786.jpg\n",
      "/data/colposcopy/colposcopy/train_stg2/Type_2/4623.jpg\n",
      "/data/colposcopy/colposcopy/train_stg2/Type_2/1992.jpg\n",
      "/data/colposcopy/colposcopy/train_stg2/Type_1/2121.jpg\n",
      "/data/colposcopy/colposcopy/train_stg2/Type_2/6424.jpg\n",
      "/data/colposcopy/colposcopy/train_stg2/Type_2/5251.jpg\n",
      "/data/colposcopy/colposcopy/train/Type_2/509.jpg\n",
      "/data/colposcopy/colposcopy/train/Type_2/64.jpg\n",
      "/data/colposcopy/colposcopy/train_stg2/Type_2/5657.jpg\n",
      "/data/colposcopy/colposcopy/train_stg2/Type_1/872.jpg\n",
      "/data/colposcopy/colposcopy/train_stg2/Type_1/3577.jpg\n",
      "/data/colposcopy/colposcopy/train/Type_2/1016.jpg\n",
      "/data/colposcopy/colposcopy/train/Type_2/1187.jpg\n",
      "/data/colposcopy/colposcopy/train/Type_1/668.jpg\n",
      "/data/colposcopy/colposcopy/train_stg2/Type_1/3482.jpg\n",
      "/data/colposcopy/colposcopy/train_stg2/Type_1/2190.jpg\n",
      "/data/colposcopy/colposcopy/train_stg2/Type_1/2225.jpg\n",
      "/data/colposcopy/colposcopy/train_stg2/Type_1/1217.jpg\n",
      "/data/colposcopy/colposcopy/train_stg2/Type_1/6506.jpg\n",
      "/data/colposcopy/colposcopy/train_stg2/Type_2/663.jpg\n",
      "/data/colposcopy/colposcopy/train_stg2/Type_2/667.jpg\n",
      "/data/colposcopy/colposcopy/train/Type_1/663.jpg\n",
      "/data/colposcopy/colposcopy/train/Type_2/932.jpg\n",
      "/data/colposcopy/colposcopy/train/Type_2/1472.jpg\n",
      "/data/colposcopy/colposcopy/train_stg2/Type_2/4469.jpg\n",
      "/data/colposcopy/colposcopy/train/Type_2/1025.jpg\n",
      "/data/colposcopy/colposcopy/train_stg2/Type_1/23.jpg\n",
      "/data/colposcopy/colposcopy/train_stg2/Type_1/2413.jpg\n",
      "/data/colposcopy/colposcopy/train_stg2/Type_2/254.jpg\n",
      "/data/colposcopy/colposcopy/train/Type_2/473.jpg\n",
      "/data/colposcopy/colposcopy/train_stg2/Type_2/1884.jpg\n",
      "/data/colposcopy/colposcopy/train_stg2/Type_1/3242.jpg\n",
      "/data/colposcopy/colposcopy/train/Type_1/523.jpg\n",
      "/data/colposcopy/colposcopy/train/Type_2/1413.jpg\n",
      "/data/colposcopy/colposcopy/train_stg2/Type_1/1507.jpg\n",
      "/data/colposcopy/colposcopy/train_stg2/Type_1/4515.jpg\n",
      "/data/colposcopy/colposcopy/train_stg2/Type_1/6414.jpg\n",
      "/data/colposcopy/colposcopy/train_stg2/Type_1/652.jpg\n",
      "/data/colposcopy/colposcopy/train_stg2/Type_1/4943.jpg/data/colposcopy/colposcopy/train/Type_2/515.jpg\n",
      "\n",
      "/data/colposcopy/colposcopy/train/Type_1/13.jpg\n",
      "/data/colposcopy/colposcopy/train_stg2/Type_2/4634.jpg\n",
      "/data/colposcopy/colposcopy/train_stg2/Type_2/6535.jpg\n",
      "/data/colposcopy/colposcopy/train_stg2/Type_1/444.jpg\n",
      "/data/colposcopy/colposcopy/train/Type_2/966.jpg\n",
      "/data/colposcopy/colposcopy/train_stg2/Type_2/4883.jpg\n",
      "/data/colposcopy/colposcopy/train_stg2/Type_2/5166.jpg\n",
      "/data/colposcopy/colposcopy/train_stg2/Type_2/847.jpg\n",
      "/data/colposcopy/colposcopy/train/Type_2/110.jpg\n",
      "/data/colposcopy/colposcopy/train_stg2/Type_1/1142.jpg\n",
      "/data/colposcopy/colposcopy/train_stg2/Type_1/5097.jpg\n",
      "/data/colposcopy/colposcopy/train/Type_2/400.jpg\n",
      "/data/colposcopy/colposcopy/train/Type_2/359.jpg\n",
      "/data/colposcopy/colposcopy/train/Type_2/454.jpg\n",
      "/data/colposcopy/colposcopy/train/Type_1/0.jpg\n",
      "/data/colposcopy/colposcopy/train_stg2/Type_1/1493.jpg\n",
      "/data/colposcopy/colposcopy/train_stg2/Type_1/3832.jpg\n",
      "/data/colposcopy/colposcopy/train_stg2/Type_1/1885.jpg\n",
      "/data/colposcopy/colposcopy/train/Type_1/1427.jpg\n",
      "/data/colposcopy/colposcopy/train/Type_2/726.jpg\n",
      "/data/colposcopy/colposcopy/train_stg2/Type_1/907.jpg\n",
      "/data/colposcopy/colposcopy/train/Type_2/119.jpg\n",
      "/data/colposcopy/colposcopy/train_stg2/Type_2/2270.jpg\n",
      "/data/colposcopy/colposcopy/train_stg2/Type_1/6594.jpg\n",
      "/data/colposcopy/colposcopy/train_stg2/Type_2/6510.jpg\n",
      "/data/colposcopy/colposcopy/train_stg2/Type_1/1814.jpg\n",
      "/data/colposcopy/colposcopy/train_stg2/Type_2/4562.jpg\n"
     ]
    },
    {
     "name": "stdout",
     "output_type": "stream",
     "text": [
      "/data/colposcopy/colposcopy/train_stg2/Type_1/1642.jpg\n",
      "/data/colposcopy/colposcopy/train_stg2/Type_1/6861.jpg\n",
      "/data/colposcopy/colposcopy/train/Type_2/644.jpg\n",
      "/data/colposcopy/colposcopy/train_stg2/Type_2/6329.jpg\n",
      "/data/colposcopy/colposcopy/train/Type_2/729.jpg\n",
      "/data/colposcopy/colposcopy/train_stg2/Type_2/4136.jpg\n",
      "/data/colposcopy/colposcopy/train/Type_2/1006.jpg\n",
      "/data/colposcopy/colposcopy/train/Type_1/469.jpg\n",
      "/data/colposcopy/colposcopy/train_stg2/Type_1/1214.jpg\n",
      "/data/colposcopy/colposcopy/train_stg2/Type_1/2235.jpg\n",
      "/data/colposcopy/colposcopy/train_stg2/Type_1/5995.jpg\n",
      "/data/colposcopy/colposcopy/train_stg2/Type_1/1676.jpg\n",
      "/data/colposcopy/colposcopy/train_stg2/Type_1/2434.jpg\n",
      "/data/colposcopy/colposcopy/train/Type_2/175.jpg\n",
      "/data/colposcopy/colposcopy/train/Type_1/779.jpg\n",
      "/data/colposcopy/colposcopy/train_stg2/Type_2/3521.jpg\n",
      "/data/colposcopy/colposcopy/train_stg2/Type_1/3673.jpg\n",
      "/data/colposcopy/colposcopy/train_stg2/Type_2/4220.jpg\n",
      "/data/colposcopy/colposcopy/train/Type_2/1443.jpg/data/colposcopy/colposcopy/train_stg2/Type_2/1582.jpg\n",
      "\n",
      "/data/colposcopy/colposcopy/train_stg2/Type_1/1995.jpg\n",
      "/data/colposcopy/colposcopy/train/Type_2/442.jpg\n",
      "/data/colposcopy/colposcopy/train/Type_2/535.jpg\n",
      "/data/colposcopy/colposcopy/train_stg2/Type_2/5756.jpg\n",
      "/data/colposcopy/colposcopy/train_stg2/Type_1/3735.jpg\n",
      "/data/colposcopy/colposcopy/train_stg2/Type_2/5113.jpg\n",
      "/data/colposcopy/colposcopy/train/Type_2/21.jpg\n",
      "/data/colposcopy/colposcopy/train_stg2/Type_1/2515.jpg\n",
      "/data/colposcopy/colposcopy/train_stg2/Type_1/1452.jpg\n",
      "/data/colposcopy/colposcopy/train/Type_1/901.jpg\n",
      "/data/colposcopy/colposcopy/train_stg2/Type_1/2604.jpg\n",
      "/data/colposcopy/colposcopy/train_stg2/Type_1/949.jpg\n",
      "/data/colposcopy/colposcopy/train_stg2/Type_1/6182.jpg\n",
      "/data/colposcopy/colposcopy/train_stg2/Type_1/760.jpg\n",
      "/data/colposcopy/colposcopy/train/Type_2/1452.jpg\n",
      "/data/colposcopy/colposcopy/train_stg2/Type_2/1513.jpg\n",
      "/data/colposcopy/colposcopy/train/Type_1/641.jpg\n",
      "/data/colposcopy/colposcopy/train/Type_2/896.jpg\n",
      "/data/colposcopy/colposcopy/train_stg2/Type_2/5194.jpg\n",
      "/data/colposcopy/colposcopy/train_stg2/Type_2/3341.jpg\n",
      "/data/colposcopy/colposcopy/train_stg2/Type_1/6139.jpg\n",
      "/data/colposcopy/colposcopy/train/Type_2/198.jpg\n",
      "/data/colposcopy/colposcopy/train/Type_2/1272.jpg\n",
      "/data/colposcopy/colposcopy/train_stg2/Type_1/252.jpg\n",
      "/data/colposcopy/colposcopy/train_stg2/Type_2/6892.jpg\n",
      "/data/colposcopy/colposcopy/train_stg2/Type_2/3945.jpg\n",
      "/data/colposcopy/colposcopy/train/Type_2/572.jpg\n",
      "/data/colposcopy/colposcopy/train/Type_1/1289.jpg\n",
      "/data/colposcopy/colposcopy/train_stg2/Type_1/1518.jpg\n",
      "/data/colposcopy/colposcopy/train_stg2/Type_1/5853.jpg\n",
      "/data/colposcopy/colposcopy/train_stg2/Type_1/4556.jpg\n",
      "/data/colposcopy/colposcopy/train_stg2/Type_1/2433.jpg\n",
      "/data/colposcopy/colposcopy/train_stg2/Type_1/2425.jpg\n",
      "/data/colposcopy/colposcopy/train/Type_2/1189.jpg\n",
      "/data/colposcopy/colposcopy/train/Type_2/1365.jpg\n",
      "/data/colposcopy/colposcopy/train_stg2/Type_2/3568.jpg\n",
      "/data/colposcopy/colposcopy/train/Type_1/1194.jpg\n",
      "/data/colposcopy/colposcopy/train_stg2/Type_1/755.jpg\n",
      "/data/colposcopy/colposcopy/train/Type_2/1151.jpg\n",
      "/data/colposcopy/colposcopy/train_stg2/Type_1/1612.jpg\n",
      "/data/colposcopy/colposcopy/train_stg2/Type_2/6076.jpg\n",
      "/data/colposcopy/colposcopy/train_stg2/Type_2/1125.jpg\n",
      "/data/colposcopy/colposcopy/train_stg2/Type_2/2126.jpg\n",
      "/data/colposcopy/colposcopy/train/Type_2/1098.jpg\n",
      "/data/colposcopy/colposcopy/train_stg2/Type_1/2394.jpg\n",
      "/data/colposcopy/colposcopy/train_stg2/Type_2/5374.jpg\n"
     ]
    }
   ],
   "source": [
    "from multiprocessing import Lock\n",
    "from multiprocessing.dummy import Pool as ThreadPool \n",
    "import time\n",
    "import threading\n",
    "from tqdm import tqdm\n",
    "import os\n",
    "import numpy as np\n",
    "\n",
    "num_thread = 20\n",
    "num_images = len(img_paths)\n",
    "\n",
    "\n",
    "pool = ThreadPool(num_thread)\n",
    "progress = tqdm(total=num_images)\n",
    "\n",
    "def preprocess_cervical_1(name):\n",
    "    global progress,lock\n",
    "    #print(\"Thread {}, image {}|{}, name: {}\".format(thread_id, index-index_slice[0], len(index_slice) ,img_paths[index]))\n",
    "    img_name_target = os.path.join(img_dir_1 + '/'.join(name.split('/')[4:]))\n",
    "    print (name)\n",
    "    try:\n",
    "        img = cv2.imread(name)\n",
    "        if img is not None:\n",
    "            img_crop = cropCircle(cvt(img))\n",
    "            dst = remove_sr(img_crop)\n",
    "            cv2.imwrite(img_name_target,dst)\n",
    "    except cv2.error:\n",
    "        print (\"skipped,continue\")\n",
    "   \n",
    "        \n",
    "print ('Parent process %s.' % os.getpid())\n",
    "start_time = time.time()\n",
    "a = pool.map(preprocess_cervical_1, img_paths)\n",
    "pool.close()\n",
    "pool.join()\n",
    "end_time = time.time()\n",
    "\n",
    "print (\"done,it takes:\",end_time-start_time)\n"
   ]
  },
  {
   "cell_type": "code",
   "execution_count": null,
   "metadata": {},
   "outputs": [],
   "source": [
    "def cvt(image):\n",
    "    return cv2.cvtColor(image, cv2.COLOR_BGR2RGB)\n",
    "\n",
    "def preprocess(img): \n",
    "    r_c = img[:,:,2]\n",
    "    g_c = img[:,:,1]\n",
    "    b_c = img[:,:,0]\n",
    "    _,r_thres = cv2.threshold(r_c, 210, 255, cv2.THRESH_BINARY)\n",
    "    _,g_thres = cv2.threshold(g_c, 208, 255, cv2.THRESH_BINARY)\n",
    "    _,b_thres = cv2.threshold(b_c, 206, 255, cv2.THRESH_BINARY)\n",
    "    mixed = cv2.UMat(r_thres & b_thres & g_thres)\n",
    "    \n",
    "    kernel_dilate = np.ones((18, 18), np.uint8)\n",
    "    mask = cv2.dilate(mixed,kernel_dilate)\n",
    "    dst = cv2.inpaint(img,mask,14,cv2.INPAINT_TELEA)\n",
    "    return dst\n",
    "\n",
    "def maxRect(matrix):\n",
    "    def max_with_par(val,p1,p2,max_val,max_p1,max_p2):\n",
    "        if val>max_val:\n",
    "            return val,p1,p2\n",
    "        else:\n",
    "            return max_val,max_p1,max_p2\n",
    "        \n",
    "    def maxHist(lst):\n",
    "        s = list()\n",
    "        max_val = 0\n",
    "        left = -1\n",
    "        right = -1\n",
    "        i = 0\n",
    "        while(i < len(lst)):\n",
    "            if len(s)==0 or lst[i]>=lst[s[-1]]:\n",
    "                s.append(i)\n",
    "                i += 1\n",
    "            else:\n",
    "                top = s.pop()\n",
    "                val = lst[top] * (i if len(s)<=0 else i-s[-1]-1)\n",
    "                left_cur = 0 if len(s)<=0 else s[-1]\n",
    "                right_cur = i-1\n",
    "                max_val,left,right = max_with_par(val,left_cur,right_cur,max_val,left,right)\n",
    "    \n",
    "        while(len(s) > 0):\n",
    "            top = s.pop()\n",
    "            val = lst[top] * (i if len(s)<=0 else i-s[-1]-1)\n",
    "            left_cur = 0 if len(s)<=0 else s[-1]\n",
    "            right_cur = i-1\n",
    "            max_val,left,right = max_with_par(val,left_cur,right_cur,max_val,left,right)\n",
    "        return max_val,left,right\n",
    "    \n",
    "    max_area = -1\n",
    "    up = -1\n",
    "    down = -1\n",
    "    left = -1\n",
    "    right = -1\n",
    "    \n",
    "    row_accum =[int(i) for i in matrix[0]]\n",
    "    for index in range(len(matrix)):\n",
    "        if index>=1:\n",
    "            for digit in range(len(matrix[index-1])):\n",
    "                if int(matrix[index][digit])==0:\n",
    "                    row_accum[digit] = 0\n",
    "                else:\n",
    "                    row_accum[digit] += int(matrix[index][digit]) \n",
    " \n",
    "        area,cur_left,cur_right = maxHist(row_accum)\n",
    "        past_max_area = max_area\n",
    "        cur_down = index\n",
    "        cur_up = int(index-math.floor(area/(right-left+1)))\n",
    "        max_area,down,up = max_with_par(area,cur_down,cur_up,max_area,down,up)\n",
    "        if past_max_area != max_area:\n",
    "            left = cur_left\n",
    "            right = cur_right\n",
    "    return [left,up,right,down]\n",
    "   \n",
    "def preprocess(matrix):\n",
    "    print(maxRect(matrix))\n",
    "\n",
    "if __name__ == '__main__':\n",
    "    matrix = np.array([[1,0,0,0,0,1],\n",
    "                       [1,1,0,1,1,1],\n",
    "                       [0,0,0,1,1,1],\n",
    "                       [0,0,1,1,0,0]])\n",
    "    threads = []\n",
    "\n",
    "    for i in range(3):\n",
    "        t1 = threading.Thread(target=preprocess,args=(matrix,))\n",
    "        threads.append(t1)\n",
    "    \n",
    "    for t in threads:\n",
    "        t.setDaemon(True)\n",
    "        t.start()\n",
    "        \n",
    "    t.join()\n",
    "    print (\"all over %s\" %ctime())"
   ]
  },
  {
   "cell_type": "code",
   "execution_count": null,
   "metadata": {},
   "outputs": [],
   "source": []
  }
 ],
 "metadata": {
  "kernelspec": {
   "display_name": "Python 2",
   "language": "python",
   "name": "python2"
  },
  "language_info": {
   "codemirror_mode": {
    "name": "ipython",
    "version": 2
   },
   "file_extension": ".py",
   "mimetype": "text/x-python",
   "name": "python",
   "nbconvert_exporter": "python",
   "pygments_lexer": "ipython2",
   "version": "2.7.15"
  }
 },
 "nbformat": 4,
 "nbformat_minor": 2
}
