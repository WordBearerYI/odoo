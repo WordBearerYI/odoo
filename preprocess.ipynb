{
 "cells": [
  {
   "cell_type": "code",
   "execution_count": null,
   "metadata": {},
   "outputs": [],
   "source": [
    "from __future__ import absolute_import\n",
    "from __future__ import division\n",
    "from __future__ import print_function\n",
    "from __future__ import unicode_literals\n",
    "\n",
    "import math\n",
    "import os\n",
    "import sys\n",
    "import warnings\n",
    "import argparse\n",
    "import numpy as np\n",
    "import yaml\n",
    "import cv2\n",
    "import matplotlib.pyplot as plt\n",
    "%matplotlib inline\n",
    "\n",
    "from glob import glob\n",
    "from tqdm import tqdm\n",
    "import torch\n",
    "from torch import optim\n",
    "from torch import Tensor\n",
    "import torch.nn as nn\n",
    "import torch.backends.cudnn as cudnn\n",
    "from torch.autograd import Variable\n",
    "from torch.utils.data import DataLoader, Dataset,Sampler\n",
    "from torchvision import datasets,transforms\n",
    "import torchvision.transforms as transforms\n",
    "from torch.nn import functional as F\n",
    "\n",
    "sys.path.append(\"/home/shiyi/gpu/gpu/\")\n",
    "sys.path.append(\"/home/shiyi/colposcopy/colposcopy/util\")\n",
    "img_dir = \"/data/colposcopy/colposcopy\"\n",
    "img_dir_target = \"/data/colposcopy/colposcopy_1/\"\n",
    "\n",
    "from gpu_allocation import set_gpu\n",
    "\n",
    "import csv\n",
    "\n",
    "error = glob(os.path.join(img_dir,\"train*\",\"*\",\"2845.jpg\"))+ \\\n",
    "    glob(os.path.join(img_dir,\"train*\",\"*\",\"5893.jpg\"))+glob(os.path.join(img_dir,\"train*\",\"*\",\"5892.jpg\"))\n",
    "print(error)\n",
    "\n",
    "from gpu_allocation import set_gpu\n",
    "corrupt_set  = set()\n",
    "types = [1,2,3]\n",
    "\n",
    "type_1_train = [i for i in glob(os.path.join(img_dir,\"train*\",\"Type_1\",\"*.jpg\")) if i not in error]\n",
    "type_2_train = [i for i in glob(os.path.join(img_dir,\"train*\",\"Type_2\",\"*.jpg\")) if i not in error]\n",
    "type_3_train = [i for i in glob(os.path.join(img_dir,\"train*\",\"Type_3\",\"*.jpg\")) if i not in error]\n",
    "\n",
    "img_test   = glob(os.path.join(img_dir,\"test\",\"*.jpg\"))\n",
    "img_test_wo_answer = glob(os.path.join(img_dir,\"test_stg2\",\"*.jpg\"))\n",
    "\n",
    "img_paths = type_1_train+type_2_train+type_3_train+img_test+img_test_wo_answer\n",
    "print(len(img_paths))"
   ]
  },
  {
   "cell_type": "code",
   "execution_count": null,
   "metadata": {},
   "outputs": [],
   "source": [
    "class ColpoProcessDataset(Dataset):\n",
    "    def __init__(self):\n",
    "        pass\n",
    "    def __getitem__(self, index):\n",
    "        path = img_paths[index]\n",
    "        x = cv2.imread(path)\n",
    "        if x is None:\n",
    "            return  None,None\n",
    "        return x\n",
    "    def __len__(self):\n",
    "        return len(img_paths)\n",
    "\n",
    "def data_label_alter(csv_path):\n",
    "    def data_label_del(target_img_path):\n",
    "        for i in img_paths:\n",
    "            if i.split('/')[-1]==target_img_path:\n",
    "                img_paths.remove(i)\n",
    "                print (\"%s removed\"%i)\n",
    "                return\n",
    "                \n",
    "    def data_label_exchange(target_img_path,src,target):\n",
    "        for i in range(len(img_paths)):\n",
    "            path_token = img_paths[i].split('/')\n",
    "            if path_token[-1]==target_img_path and src == path_token[-2]:\n",
    "                print (target_img_path,src,target)\n",
    "                print (path_token[-2],src,target)\n",
    "                path_token[-2] = target\n",
    "               #print (\"From\",img_paths[i])\n",
    "                img_paths[i] = '/'.join(path_token)\n",
    "               # print (\"To\",img_paths[i])\n",
    "                return \n",
    "                \n",
    "        \n",
    "    with open(csv_path) as f:\n",
    "        f_csv = csv.reader(f)\n",
    "        index = 0\n",
    "        for row in f_csv:\n",
    "            if index == 0:\n",
    "                index += 1\n",
    "                continue\n",
    "            if row[-1] == 'remove':\n",
    "                data_label_del(row[0])\n",
    "            else:\n",
    "                data_label_exchange(row[0],row[1],row[2])\n",
    "\n",
    "            \n",
    "def cvt(image):\n",
    "    return cv2.cvtColor(image, cv2.COLOR_BGR2RGB)\n",
    "\n",
    "def preprocess(img): \n",
    "    r_c = img[:,:,2]\n",
    "    g_c = img[:,:,1]\n",
    "    b_c = img[:,:,0]\n",
    "    _,r_thres = cv2.threshold(r_c, 210, 255, cv2.THRESH_BINARY)\n",
    "    _,g_thres = cv2.threshold(g_c, 208, 255, cv2.THRESH_BINARY)\n",
    "    _,b_thres = cv2.threshold(b_c, 206, 255, cv2.THRESH_BINARY)\n",
    "    mixed = r_thres & b_thres & g_thres\n",
    "    kernel_dilate = np.ones((18, 18), np.uint8)\n",
    "    mask = cv2.dilate(mixed,kernel_dilate)\n",
    "    dst = cv2.inpaint(img,mask,14,cv2.INPAINT_TELEA)\n",
    "    return cvt(dst)\n",
    "\n",
    "def collate_fn1(batch):\n",
    "    x = [item[0] for item in batch if item[0] is not None]\n",
    "    y = [item[1] for item in batch if item[0] is not None]\n",
    "    return x,y"
   ]
  },
  {
   "cell_type": "code",
   "execution_count": null,
   "metadata": {},
   "outputs": [],
   "source": [
    "print(img_paths[0].split('/')[4:])\n",
    "data_label_alter(os.path.join(img_dir,\"fixed_labels_v2.csv\"))\n",
    "data_label_alter(os.path.join(img_dir,\"removed_files.csv\"))"
   ]
  },
  {
   "cell_type": "code",
   "execution_count": null,
   "metadata": {},
   "outputs": [
    {
     "name": "stderr",
     "output_type": "stream",
     "text": [
      "\n",
      "  0%|          | 0/12153 [00:00<?, ?it/s]\u001b[A"
     ]
    },
    {
     "name": "stdout",
     "output_type": "stream",
     "text": [
      "/data/colposcopy/colposcopy_1train/Type_1/732.jpg\n"
     ]
    },
    {
     "name": "stderr",
     "output_type": "stream",
     "text": [
      "\n",
      "  0%|          | 1/12153 [00:04<14:03:46,  4.17s/it]\u001b[A"
     ]
    },
    {
     "name": "stdout",
     "output_type": "stream",
     "text": [
      "/data/colposcopy/colposcopy_1train/Type_1/764.jpg\n"
     ]
    }
   ],
   "source": [
    "batch_size_train = 16\n",
    "colpoProcessDataset = ColpoProcessDataset()\n",
    "process_loader = DataLoader(dataset=colpoProcessDataset,batch_size=batch_size_train,shuffle=True,num_workers = 2)\n",
    "#os.environ[\"CUDA_VISIBLE_DEVICES\"]=\"0,1,2,3\"\n",
    "#num_gpu = 1\n",
    "#set_gpu(num_gpu)\n",
    "    \n",
    "for img_path in tqdm(img_paths):\n",
    "    img_path_target = os.path.join(img_dir_target + '/'.join(img_path.split('/')[4:]))\n",
    "    print(img_path_target)\n",
    "    img = cv2.imread(img_path)\n",
    "    x = preprocess(img)\n",
    "    cv2.imwrite(img_path_target,x,[int(cv2.IMWRITE_JPEG_QUALITY),100])"
   ]
  },
  {
   "cell_type": "code",
   "execution_count": 13,
   "metadata": {},
   "outputs": [
    {
     "name": "stdout",
     "output_type": "stream",
     "text": [
      "12153\n"
     ]
    }
   ],
   "source": [
    "print(len(img_paths))"
   ]
  },
  {
   "cell_type": "code",
   "execution_count": null,
   "metadata": {},
   "outputs": [],
   "source": [
    "import csv\n",
    "csv_path = (img_dir +'/'+ \"removed_files.csv\")\n",
    "f = open(csv_path)\n",
    "f_csv = csv.reader(f)\n",
    "for row in f_csv:\n",
    "    print(row)"
   ]
  },
  {
   "cell_type": "code",
   "execution_count": null,
   "metadata": {},
   "outputs": [],
   "source": []
  }
 ],
 "metadata": {
  "kernelspec": {
   "display_name": "Python 2",
   "language": "python",
   "name": "python2"
  },
  "language_info": {
   "codemirror_mode": {
    "name": "ipython",
    "version": 2
   },
   "file_extension": ".py",
   "mimetype": "text/x-python",
   "name": "python",
   "nbconvert_exporter": "python",
   "pygments_lexer": "ipython2",
   "version": "2.7.15"
  }
 },
 "nbformat": 4,
 "nbformat_minor": 2
}
